{
 "cells": [
  {
   "cell_type": "code",
   "execution_count": 8,
   "metadata": {},
   "outputs": [],
   "source": [
    "import ccxt\n",
    "import pandas as pd\n",
    "from datetime import datetime, timedelta\n",
    "import psycopg2"
   ]
  },
  {
   "cell_type": "code",
   "execution_count": 9,
   "metadata": {},
   "outputs": [],
   "source": [
    "#config\n",
    "conn = psycopg2.connect(database = \"symbole\", \n",
    "                        user = \"postgres\", \n",
    "                        host= 'localhost',\n",
    "                        password = \"postgresql_test1234567890Password\",\n",
    "                        port = 5432)\n",
    "cursor = conn.cursor()\n"
   ]
  },
  {
   "cell_type": "code",
   "execution_count": 10,
   "metadata": {},
   "outputs": [],
   "source": [
    "\n",
    "symbols = [\n",
    "    'BTC/FDUSD',\n",
    "    'BTC/USDT',\n",
    "    'LINK/USDT'\n",
    "]"
   ]
  },
  {
   "cell_type": "code",
   "execution_count": 11,
   "metadata": {},
   "outputs": [],
   "source": [
    "binance = ccxt.binance()\n",
    "\n",
    "def get_historical_data(symbol, timeframe='1d', limit=1000, start_time=None):\n",
    "    all_data = []\n",
    "    if start_time is None:\n",
    "        start_time = binance.parse8601('2024-01-01T01:51:00Z')\n",
    "\n",
    "    while True:\n",
    "        ohlcv = binance.fetch_ohlcv(symbol, timeframe=timeframe, since=start_time, limit=limit)\n",
    "        if len(ohlcv) == 0:\n",
    "            break\n",
    "        all_data += ohlcv\n",
    "        start_time = ohlcv[-1][0] + 1\n",
    "        print(f\"Récupéré {len(all_data)} bougies pour {symbol}\")\n",
    "\n",
    "    data = pd.DataFrame(all_data, columns=['DateTime', 'Open', 'High', 'Low', 'Close', 'Volume'])\n",
    "    data['DateTime'] = pd.to_datetime(data['DateTime'], unit='ms')\n",
    "    return data\n",
    "\n",
    "def create_table(symbol):\n",
    "    table_name = symbol.replace(\"/\", \"_\").lower()\n",
    "    create_table_query = f\"\"\"\n",
    "    CREATE TABLE IF NOT EXISTS {table_name} (\n",
    "        datetime TIMESTAMP PRIMARY KEY,\n",
    "        open NUMERIC,\n",
    "        high NUMERIC,\n",
    "        low NUMERIC,\n",
    "        close NUMERIC,\n",
    "        volume NUMERIC\n",
    "    );\n",
    "    \"\"\"\n",
    "    cursor.execute(create_table_query)\n",
    "    conn.commit()\n",
    "\n",
    "def insert_data_to_postgresql(symbol, data):\n",
    "    table_name = symbol.replace(\"/\", \"_\").lower()\n",
    "    for _, row in data.iterrows():\n",
    "        insert_query = f\"\"\"\n",
    "        INSERT INTO {table_name} (datetime, open, high, low, close, volume)\n",
    "        VALUES (%s, %s, %s, %s, %s, %s)\n",
    "        ON CONFLICT (datetime) DO NOTHING;\n",
    "        \"\"\"\n",
    "        cursor.execute(insert_query, (row['DateTime'], row['Open'], row['High'], row['Low'], row['Close'], row['Volume']))\n",
    "    conn.commit()\n",
    "\n",
    "\n"
   ]
  },
  {
   "cell_type": "code",
   "execution_count": 12,
   "metadata": {},
   "outputs": [
    {
     "name": "stdout",
     "output_type": "stream",
     "text": [
      "Traitement des données pour BTC/FDUSD...\n",
      "Récupéré 386 bougies pour BTC/FDUSD\n",
      "Données insérées pour BTC/FDUSD\n",
      "Traitement des données pour BTC/USDT...\n",
      "Récupéré 386 bougies pour BTC/USDT\n",
      "Données insérées pour BTC/USDT\n",
      "Traitement des données pour LINK/USDT...\n",
      "Récupéré 386 bougies pour LINK/USDT\n",
      "Données insérées pour LINK/USDT\n"
     ]
    }
   ],
   "source": [
    "for symbol in symbols:\n",
    "    print(f\"Traitement des données pour {symbol}...\")\n",
    "    data = get_historical_data(symbol, limit=1000)\n",
    "    create_table(symbol)\n",
    "    insert_data_to_postgresql(symbol, data)\n",
    "    print(f\"Données insérées pour {symbol}\")\n",
    "\n",
    "cursor.close()\n",
    "conn.close()"
   ]
  },
  {
   "cell_type": "code",
   "execution_count": null,
   "metadata": {},
   "outputs": [],
   "source": []
  },
  {
   "cell_type": "code",
   "execution_count": 35,
   "metadata": {},
   "outputs": [],
   "source": []
  },
  {
   "cell_type": "code",
   "execution_count": null,
   "metadata": {},
   "outputs": [],
   "source": []
  }
 ],
 "metadata": {
  "kernelspec": {
   "display_name": "base",
   "language": "python",
   "name": "python3"
  },
  "language_info": {
   "codemirror_mode": {
    "name": "ipython",
    "version": 3
   },
   "file_extension": ".py",
   "mimetype": "text/x-python",
   "name": "python",
   "nbconvert_exporter": "python",
   "pygments_lexer": "ipython3",
   "version": "3.11.7"
  }
 },
 "nbformat": 4,
 "nbformat_minor": 2
}
